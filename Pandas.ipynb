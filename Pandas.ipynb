{
 "cells": [
  {
   "cell_type": "code",
   "execution_count": 9,
   "id": "23f3d8c2-e7a8-4da6-8b0f-a1dc748eb342",
   "metadata": {},
   "outputs": [],
   "source": [
    "import pandas as pd\n",
    "import numpy as np"
   ]
  },
  {
   "cell_type": "code",
   "execution_count": 10,
   "id": "f2d6e5e3-4510-48fc-a951-a417809a6213",
   "metadata": {},
   "outputs": [
    {
     "ename": "SyntaxError",
     "evalue": "invalid decimal literal (980981174.py, line 4)",
     "output_type": "error",
     "traceback": [
      "\u001b[1;36m  Cell \u001b[1;32mIn[10], line 4\u001b[1;36m\u001b[0m\n\u001b[1;33m    * Dataframe -  Its a tablelike structure, 2d Data,  Matrix\u001b[0m\n\u001b[1;37m                                              ^\u001b[0m\n\u001b[1;31mSyntaxError\u001b[0m\u001b[1;31m:\u001b[0m invalid decimal literal\n"
     ]
    }
   ],
   "source": [
    "### Pands \n",
    "#### Panel - Dataframe - series\n",
    "* Panel -  Data more than to dimension \n",
    "* Dataframe -  Its a tablelike structure, 2d Data,  Matrix\n",
    "* Series - It is array like structure, 1D Data \n",
    "\n",
    "*This are the three main data structure in pandas.\n",
    "*Pandas supports Numeric and object datatypes \n",
    "*Numeric contains - int,int64,float\n",
    "*Object - String, Characters, Alphanumric Characters, Symbols,Bits and Bytes\n",
    "\n",
    "Panda is one of the most used data analytical library/noduel in python.\n",
    "Libray - set of classes, set of funtion, set of object.\n",
    "Pandas can be work with files, text, databases, websites and clouds.\n",
    "\n",
    "\n",
    "\n"
   ]
  },
  {
   "cell_type": "code",
   "execution_count": 17,
   "id": "a854502f-2e30-468b-90b9-a2689479cfbd",
   "metadata": {},
   "outputs": [],
   "source": [
    "arr = np.array([\"Sun\",\"Mon\",\"Tue\",\"Wed\",\"Thu\",\"Fri\",\"Sat\"])\n"
   ]
  },
  {
   "cell_type": "code",
   "execution_count": 22,
   "id": "4b5d8d2a-08b6-4d32-9252-63bb7f278764",
   "metadata": {},
   "outputs": [
    {
     "data": {
      "text/plain": [
       "0    Sun\n",
       "1    Mon\n",
       "2    Tue\n",
       "3    Wed\n",
       "4    Thu\n",
       "5    Fri\n",
       "6    Sat\n",
       "Name: Weekdays, dtype: object"
      ]
     },
     "execution_count": 22,
     "metadata": {},
     "output_type": "execute_result"
    }
   ],
   "source": [
    "s1 = pd.Series(arr,name=\"Weekdays\")\n",
    "s1"
   ]
  },
  {
   "cell_type": "code",
   "execution_count": 23,
   "id": "6f1a6b54-f764-40e1-80bd-e8ead4f2b356",
   "metadata": {},
   "outputs": [
    {
     "data": {
      "text/plain": [
       "0    2\n",
       "1    5\n",
       "2    7\n",
       "3    4\n",
       "Name: Number List, dtype: int64"
      ]
     },
     "execution_count": 23,
     "metadata": {},
     "output_type": "execute_result"
    }
   ],
   "source": [
    "s2 = pd.Series([2,5,7,4], name=\"Number List\")\n",
    "s2"
   ]
  },
  {
   "cell_type": "code",
   "execution_count": 24,
   "id": "6121d598-0f0d-4cf5-8a39-c255db52bb5a",
   "metadata": {},
   "outputs": [
    {
     "data": {
      "text/plain": [
       "0    1\n",
       "1    2\n",
       "2    3\n",
       "3    4\n",
       "4    5\n",
       "dtype: int64"
      ]
     },
     "execution_count": 24,
     "metadata": {},
     "output_type": "execute_result"
    }
   ],
   "source": [
    "s3 = pd.Series((1,2,3,4,5))\n",
    "s3"
   ]
  },
  {
   "cell_type": "code",
   "execution_count": null,
   "id": "5b3c0635-dc9f-4125-a633-12f1300b5434",
   "metadata": {},
   "outputs": [],
   "source": []
  }
 ],
 "metadata": {
  "kernelspec": {
   "display_name": "Python 3 (ipykernel)",
   "language": "python",
   "name": "python3"
  },
  "language_info": {
   "codemirror_mode": {
    "name": "ipython",
    "version": 3
   },
   "file_extension": ".py",
   "mimetype": "text/x-python",
   "name": "python",
   "nbconvert_exporter": "python",
   "pygments_lexer": "ipython3",
   "version": "3.12.0"
  }
 },
 "nbformat": 4,
 "nbformat_minor": 5
}
