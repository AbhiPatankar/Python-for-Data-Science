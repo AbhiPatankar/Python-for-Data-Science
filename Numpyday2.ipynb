{
 "cells": [
  {
   "cell_type": "code",
   "execution_count": 2,
   "id": "1b260718-eaa0-4a75-ba4a-3e6126828a78",
   "metadata": {},
   "outputs": [],
   "source": [
    "import numpy as np"
   ]
  },
  {
   "cell_type": "code",
   "execution_count": 3,
   "id": "c1005eb0-fb1f-409a-a5a6-fbe320d1d7fd",
   "metadata": {},
   "outputs": [],
   "source": [
    "def info_array(a):\n",
    "    print(\"Demension -\",a.ndim)\n",
    "    print(\"Shape -\",a.shape)\n",
    "    print(\"Size(Number of elements) -\",a.size)\n",
    "    print(\"Datatype _\",a.dtype)"
   ]
  },
  {
   "cell_type": "code",
   "execution_count": 4,
   "id": "20c94742-4639-4a78-84b6-cf7ef1c9ccf2",
   "metadata": {},
   "outputs": [
    {
     "data": {
      "text/plain": [
       "array([ 0,  1,  2,  3,  4,  5,  6,  7,  8,  9, 10, 11])"
      ]
     },
     "execution_count": 4,
     "metadata": {},
     "output_type": "execute_result"
    }
   ],
   "source": [
    "arr1 = np.arange(12)\n",
    "arr1"
   ]
  },
  {
   "cell_type": "code",
   "execution_count": 5,
   "id": "90ce6cdf-8573-451c-b97a-919f63dd171b",
   "metadata": {},
   "outputs": [
    {
     "name": "stdout",
     "output_type": "stream",
     "text": [
      "Demension - 1\n",
      "Shape - (12,)\n",
      "Size(Number of elements) - 12\n",
      "Datatype _ int32\n"
     ]
    }
   ],
   "source": [
    "info_array(arr1)"
   ]
  },
  {
   "cell_type": "markdown",
   "id": "e49f0a67-ba21-4072-b178-483ede2ecbb9",
   "metadata": {},
   "source": [
    "### Numpy Notes\n",
    "* arrange- to crate range of element - np.arange(start,end,step)\n",
    "* linspace- to create the range of element with number of element, this will calulate step soze by its own,it will also inculde the start and end         value-  np.linespace (start,end,number_of_element)\n",
    "* reshape- change the shape of array np.reshape(reo,column),while reshaping array the size of array should not change\n",
    "* resize- changes the size of any array with given dimension,we can change array in any size, it is not dependent on how many nuber element present in    your array\n",
    "* "
   ]
  },
  {
   "cell_type": "code",
   "execution_count": 6,
   "id": "f81578e4-cf34-4fbd-9f6a-2f1ac6eb8607",
   "metadata": {},
   "outputs": [
    {
     "data": {
      "text/plain": [
       "array([1.        , 1.03030303, 1.06060606, 1.09090909, 1.12121212,\n",
       "       1.15151515, 1.18181818, 1.21212121, 1.24242424, 1.27272727,\n",
       "       1.3030303 , 1.33333333, 1.36363636, 1.39393939, 1.42424242,\n",
       "       1.45454545, 1.48484848, 1.51515152, 1.54545455, 1.57575758,\n",
       "       1.60606061, 1.63636364, 1.66666667, 1.6969697 , 1.72727273,\n",
       "       1.75757576, 1.78787879, 1.81818182, 1.84848485, 1.87878788,\n",
       "       1.90909091, 1.93939394, 1.96969697, 2.        ])"
      ]
     },
     "execution_count": 6,
     "metadata": {},
     "output_type": "execute_result"
    }
   ],
   "source": [
    "arr2 = np.linspace(1,2,34)\n",
    "arr2"
   ]
  },
  {
   "cell_type": "code",
   "execution_count": 7,
   "id": "40b4c24b-4f11-4d14-887c-76d8b21a1c88",
   "metadata": {},
   "outputs": [
    {
     "data": {
      "text/plain": [
       "array([10., 17., 24., 31., 38., 45.])"
      ]
     },
     "execution_count": 7,
     "metadata": {},
     "output_type": "execute_result"
    }
   ],
   "source": [
    "arr3 = np.linspace(10,45,6)\n",
    "arr3"
   ]
  },
  {
   "cell_type": "code",
   "execution_count": 8,
   "id": "259437b8-a223-41fc-bda3-f4937f61398c",
   "metadata": {},
   "outputs": [
    {
     "data": {
      "text/plain": [
       "array([1., 5., 9.])"
      ]
     },
     "execution_count": 8,
     "metadata": {},
     "output_type": "execute_result"
    }
   ],
   "source": [
    "arr4 = np.linspace(1,9,3)\n",
    "arr4"
   ]
  },
  {
   "cell_type": "code",
   "execution_count": 9,
   "id": "e7cf20f8-8de9-4458-9728-cdc2e7a71f38",
   "metadata": {},
   "outputs": [
    {
     "data": {
      "text/plain": [
       "array([1.        , 1.03225806, 1.06451613, 1.09677419, 1.12903226,\n",
       "       1.16129032, 1.19354839, 1.22580645, 1.25806452, 1.29032258,\n",
       "       1.32258065, 1.35483871, 1.38709677, 1.41935484, 1.4516129 ,\n",
       "       1.48387097, 1.51612903, 1.5483871 , 1.58064516, 1.61290323,\n",
       "       1.64516129, 1.67741935, 1.70967742, 1.74193548, 1.77419355,\n",
       "       1.80645161, 1.83870968, 1.87096774, 1.90322581, 1.93548387,\n",
       "       1.96774194, 2.        , 2.03225806, 2.06451613, 2.09677419,\n",
       "       2.12903226, 2.16129032, 2.19354839, 2.22580645, 2.25806452,\n",
       "       2.29032258, 2.32258065, 2.35483871, 2.38709677, 2.41935484,\n",
       "       2.4516129 , 2.48387097, 2.51612903, 2.5483871 , 2.58064516,\n",
       "       2.61290323, 2.64516129, 2.67741935, 2.70967742, 2.74193548,\n",
       "       2.77419355, 2.80645161, 2.83870968, 2.87096774, 2.90322581,\n",
       "       2.93548387, 2.96774194, 3.        , 3.03225806, 3.06451613,\n",
       "       3.09677419, 3.12903226, 3.16129032, 3.19354839, 3.22580645,\n",
       "       3.25806452, 3.29032258, 3.32258065, 3.35483871, 3.38709677,\n",
       "       3.41935484, 3.4516129 , 3.48387097, 3.51612903, 3.5483871 ,\n",
       "       3.58064516, 3.61290323, 3.64516129, 3.67741935, 3.70967742,\n",
       "       3.74193548, 3.77419355, 3.80645161, 3.83870968, 3.87096774,\n",
       "       3.90322581, 3.93548387, 3.96774194, 4.        , 4.03225806,\n",
       "       4.06451613, 4.09677419, 4.12903226, 4.16129032, 4.19354839,\n",
       "       4.22580645, 4.25806452, 4.29032258, 4.32258065, 4.35483871,\n",
       "       4.38709677, 4.41935484, 4.4516129 , 4.48387097, 4.51612903,\n",
       "       4.5483871 , 4.58064516, 4.61290323, 4.64516129, 4.67741935,\n",
       "       4.70967742, 4.74193548, 4.77419355, 4.80645161, 4.83870968,\n",
       "       4.87096774, 4.90322581, 4.93548387, 4.96774194, 5.        ])"
      ]
     },
     "execution_count": 9,
     "metadata": {},
     "output_type": "execute_result"
    }
   ],
   "source": [
    "arr5 = np.linspace(1,5,125)\n",
    "arr5"
   ]
  },
  {
   "cell_type": "code",
   "execution_count": 10,
   "id": "91b4c2db-8be9-40d5-b4c8-2ec5d22cdc90",
   "metadata": {},
   "outputs": [
    {
     "name": "stdout",
     "output_type": "stream",
     "text": [
      "Demension - 1\n",
      "Shape - (125,)\n",
      "Size(Number of elements) - 125\n",
      "Datatype _ float64\n"
     ]
    }
   ],
   "source": [
    "info_array(arr5)"
   ]
  },
  {
   "cell_type": "code",
   "execution_count": 16,
   "id": "f553019c-b617-45d3-8f3b-637d99aac21f",
   "metadata": {},
   "outputs": [
    {
     "data": {
      "text/plain": [
       "array([ 1,  2,  3,  4,  5,  6,  7,  8,  9, 10, 11, 12, 13, 14, 15, 16, 17,\n",
       "       18, 19, 20, 21, 22, 23, 24])"
      ]
     },
     "execution_count": 16,
     "metadata": {},
     "output_type": "execute_result"
    }
   ],
   "source": [
    "arr6 = np.linspace(1,24,24, dtype=\"int\")\n",
    "arr6"
   ]
  },
  {
   "cell_type": "code",
   "execution_count": 17,
   "id": "9f6d7fc9-1fb7-4b25-bccd-cad41bb5c7f1",
   "metadata": {},
   "outputs": [
    {
     "data": {
      "text/plain": [
       "(24,)"
      ]
     },
     "execution_count": 17,
     "metadata": {},
     "output_type": "execute_result"
    }
   ],
   "source": [
    "arr6.shape"
   ]
  },
  {
   "cell_type": "code",
   "execution_count": 18,
   "id": "aa88cd89-105b-492b-8ecb-cf793fc730ab",
   "metadata": {},
   "outputs": [
    {
     "data": {
      "text/plain": [
       "array([[ 1,  2,  3,  4,  5,  6],\n",
       "       [ 7,  8,  9, 10, 11, 12],\n",
       "       [13, 14, 15, 16, 17, 18],\n",
       "       [19, 20, 21, 22, 23, 24]])"
      ]
     },
     "execution_count": 18,
     "metadata": {},
     "output_type": "execute_result"
    }
   ],
   "source": [
    "arr6.reshape(4,6)"
   ]
  },
  {
   "cell_type": "markdown",
   "id": "7118f32b-6cd5-4f6e-adc9-f74b57c0e16e",
   "metadata": {},
   "source": [
    "# Reshape above array with following shape - (12,2),(2,12), (8,3),(3,8),(3,4,2)"
   ]
  },
  {
   "cell_type": "code",
   "execution_count": 19,
   "id": "49b4281d-1f2d-474b-9680-7e99d483caae",
   "metadata": {},
   "outputs": [
    {
     "data": {
      "text/plain": [
       "array([[[ 1,  2],\n",
       "        [ 3,  4],\n",
       "        [ 5,  6],\n",
       "        [ 7,  8]],\n",
       "\n",
       "       [[ 9, 10],\n",
       "        [11, 12],\n",
       "        [13, 14],\n",
       "        [15, 16]],\n",
       "\n",
       "       [[17, 18],\n",
       "        [19, 20],\n",
       "        [21, 22],\n",
       "        [23, 24]]])"
      ]
     },
     "execution_count": 19,
     "metadata": {},
     "output_type": "execute_result"
    }
   ],
   "source": [
    "arr6.reshape(3,4,2)"
   ]
  },
  {
   "cell_type": "code",
   "execution_count": 20,
   "id": "ad3a10c3-018e-4d10-8672-d27d15d4f09f",
   "metadata": {},
   "outputs": [
    {
     "data": {
      "text/plain": [
       "array([[ 1,  2],\n",
       "       [ 3,  4],\n",
       "       [ 5,  6],\n",
       "       [ 7,  8],\n",
       "       [ 9, 10],\n",
       "       [11, 12],\n",
       "       [13, 14],\n",
       "       [15, 16],\n",
       "       [17, 18],\n",
       "       [19, 20],\n",
       "       [21, 22],\n",
       "       [23, 24]])"
      ]
     },
     "execution_count": 20,
     "metadata": {},
     "output_type": "execute_result"
    }
   ],
   "source": [
    "arr6.reshape(12,2)"
   ]
  },
  {
   "cell_type": "code",
   "execution_count": 21,
   "id": "19a2cbb9-3b3d-40bd-840d-7f6887133ec3",
   "metadata": {},
   "outputs": [
    {
     "data": {
      "text/plain": [
       "array([[ 1,  2,  3,  4,  5,  6,  7,  8,  9, 10, 11, 12],\n",
       "       [13, 14, 15, 16, 17, 18, 19, 20, 21, 22, 23, 24]])"
      ]
     },
     "execution_count": 21,
     "metadata": {},
     "output_type": "execute_result"
    }
   ],
   "source": [
    "arr6.reshape(2,12)"
   ]
  },
  {
   "cell_type": "code",
   "execution_count": 22,
   "id": "6b8d5213-2b35-4b12-befd-a43a45394956",
   "metadata": {},
   "outputs": [
    {
     "data": {
      "text/plain": [
       "array([[ 1,  2,  3],\n",
       "       [ 4,  5,  6],\n",
       "       [ 7,  8,  9],\n",
       "       [10, 11, 12],\n",
       "       [13, 14, 15],\n",
       "       [16, 17, 18],\n",
       "       [19, 20, 21],\n",
       "       [22, 23, 24]])"
      ]
     },
     "execution_count": 22,
     "metadata": {},
     "output_type": "execute_result"
    }
   ],
   "source": [
    "arr6.reshape(8,3)"
   ]
  },
  {
   "cell_type": "code",
   "execution_count": 23,
   "id": "0f7ae781-062b-4434-b86d-71838d1041d8",
   "metadata": {},
   "outputs": [
    {
     "data": {
      "text/plain": [
       "array([[ 1,  2,  3,  4,  5,  6,  7,  8],\n",
       "       [ 9, 10, 11, 12, 13, 14, 15, 16],\n",
       "       [17, 18, 19, 20, 21, 22, 23, 24]])"
      ]
     },
     "execution_count": 23,
     "metadata": {},
     "output_type": "execute_result"
    }
   ],
   "source": [
    "arr6.reshape(3,8)\n"
   ]
  },
  {
   "cell_type": "code",
   "execution_count": 24,
   "id": "53be8ab9-93e3-46a2-917f-96c471399de4",
   "metadata": {},
   "outputs": [
    {
     "data": {
      "text/plain": [
       "array([[ 1,  2,  3,  4],\n",
       "       [ 5,  6,  7,  8],\n",
       "       [ 9, 10, 11, 12],\n",
       "       [13, 14, 15, 16],\n",
       "       [17, 18, 19, 20],\n",
       "       [21, 22, 23, 24]])"
      ]
     },
     "execution_count": 24,
     "metadata": {},
     "output_type": "execute_result"
    }
   ],
   "source": [
    "arr6.reshape(6,4)"
   ]
  },
  {
   "cell_type": "code",
   "execution_count": 26,
   "id": "721f998f-083f-4bdd-a489-02e3d848d8f4",
   "metadata": {},
   "outputs": [
    {
     "data": {
      "text/plain": [
       "array([ 1,  2,  3,  4,  5,  6,  7,  8,  9, 10, 11, 12, 13, 14, 15, 16, 17,\n",
       "       18, 19, 20, 21, 22, 23, 24])"
      ]
     },
     "execution_count": 26,
     "metadata": {},
     "output_type": "execute_result"
    }
   ],
   "source": [
    "arr6"
   ]
  },
  {
   "cell_type": "code",
   "execution_count": 27,
   "id": "3dffb38c-58d7-4385-9f90-6da9f0f1b35e",
   "metadata": {},
   "outputs": [
    {
     "data": {
      "text/plain": [
       "array([[ 1,  2,  3,  4],\n",
       "       [ 5,  6,  7,  8],\n",
       "       [ 9, 10, 11, 12],\n",
       "       [13, 14, 15, 16],\n",
       "       [17, 18, 19, 20],\n",
       "       [21, 22, 23, 24]])"
      ]
     },
     "execution_count": 27,
     "metadata": {},
     "output_type": "execute_result"
    }
   ],
   "source": [
    "arr6.reshape(6,4)"
   ]
  },
  {
   "cell_type": "code",
   "execution_count": 28,
   "id": "55e511bd-c405-4e3a-8fd8-fb891d4390d4",
   "metadata": {},
   "outputs": [
    {
     "data": {
      "text/plain": [
       "array([ 1,  2,  3,  4,  5,  6,  7,  8,  9, 10, 11, 12, 13, 14, 15, 16, 17,\n",
       "       18, 19, 20, 21, 22, 23, 24])"
      ]
     },
     "execution_count": 28,
     "metadata": {},
     "output_type": "execute_result"
    }
   ],
   "source": [
    "arr6.reshape(24)"
   ]
  },
  {
   "cell_type": "code",
   "execution_count": 29,
   "id": "a9a0c27c-2d33-41e2-b3eb-b5ce7477b872",
   "metadata": {},
   "outputs": [
    {
     "data": {
      "text/plain": [
       "array([[ 1,  2,  3,  4,  5,  6,  7,  8,  9, 10, 11, 12, 13, 14, 15, 16,\n",
       "        17, 18, 19, 20, 21, 22, 23, 24]])"
      ]
     },
     "execution_count": 29,
     "metadata": {},
     "output_type": "execute_result"
    }
   ],
   "source": [
    "arr6.reshape(1,-1)"
   ]
  },
  {
   "cell_type": "code",
   "execution_count": 31,
   "id": "bc1eb4e9-9f4b-4cb0-bf8f-6cc0a8264cb5",
   "metadata": {},
   "outputs": [
    {
     "data": {
      "text/plain": [
       "(1, 24)"
      ]
     },
     "execution_count": 31,
     "metadata": {},
     "output_type": "execute_result"
    }
   ],
   "source": [
    "arr6.reshape(1,-1).shape"
   ]
  },
  {
   "cell_type": "code",
   "execution_count": 32,
   "id": "d6ea9249-5c7f-42c0-bf42-dd1e7a8d7091",
   "metadata": {},
   "outputs": [
    {
     "data": {
      "text/plain": [
       "array([ 1,  2,  3,  4,  5,  6,  7,  8,  9, 10, 11, 12, 13, 14, 15, 16, 17,\n",
       "       18, 19, 20, 21, 22, 23, 24])"
      ]
     },
     "execution_count": 32,
     "metadata": {},
     "output_type": "execute_result"
    }
   ],
   "source": [
    "arr6"
   ]
  },
  {
   "cell_type": "code",
   "execution_count": 40,
   "id": "f40c6643-8d27-4fee-91c4-0ee72dc26e5e",
   "metadata": {},
   "outputs": [
    {
     "data": {
      "text/plain": [
       "array([ 1,  2,  3,  4,  5,  6,  7,  8,  9, 10, 11, 12, 13, 14, 15, 16, 17,\n",
       "       18, 19, 20, 21, 22, 23, 24])"
      ]
     },
     "execution_count": 40,
     "metadata": {},
     "output_type": "execute_result"
    }
   ],
   "source": [
    "arr6.ravel(\"C\")# c programming"
   ]
  },
  {
   "cell_type": "code",
   "execution_count": 38,
   "id": "ef02edbf-1628-44ad-be0f-45c52803e916",
   "metadata": {},
   "outputs": [
    {
     "data": {
      "text/plain": [
       "array([ 1,  2,  3,  4,  5,  6,  7,  8,  9, 10, 11, 12, 13, 14, 15, 16, 17,\n",
       "       18, 19, 20, 21, 22, 23, 24])"
      ]
     },
     "execution_count": 38,
     "metadata": {},
     "output_type": "execute_result"
    }
   ],
   "source": [
    "arr6.ravel(\"F\") # FORTRON 77 programing"
   ]
  },
  {
   "cell_type": "code",
   "execution_count": 42,
   "id": "f9905854-20ef-4b98-a0a5-2704e42cfa58",
   "metadata": {},
   "outputs": [],
   "source": [
    "arr6.resize(8,3)"
   ]
  },
  {
   "cell_type": "code",
   "execution_count": 43,
   "id": "79f638d1-60d5-4bea-ab09-252f7afeb265",
   "metadata": {},
   "outputs": [
    {
     "data": {
      "text/plain": [
       "array([[ 1,  2,  3],\n",
       "       [ 4,  5,  6],\n",
       "       [ 7,  8,  9],\n",
       "       [10, 11, 12],\n",
       "       [13, 14, 15],\n",
       "       [16, 17, 18],\n",
       "       [19, 20, 21],\n",
       "       [22, 23, 24]])"
      ]
     },
     "execution_count": 43,
     "metadata": {},
     "output_type": "execute_result"
    }
   ],
   "source": [
    "arr6"
   ]
  },
  {
   "cell_type": "code",
   "execution_count": 45,
   "id": "8ff52738-c229-4ab8-8623-32f9d1cafc5a",
   "metadata": {},
   "outputs": [
    {
     "data": {
      "text/plain": [
       "array([[ 1,  2,  3,  4,  5,  6,  7,  8],\n",
       "       [ 9, 10, 11, 12, 13, 14, 15, 16],\n",
       "       [17, 18, 19, 20, 21, 22, 23, 24]])"
      ]
     },
     "execution_count": 45,
     "metadata": {},
     "output_type": "execute_result"
    }
   ],
   "source": [
    "arr6.resize(3,8)\n",
    "arr6"
   ]
  },
  {
   "cell_type": "code",
   "execution_count": 46,
   "id": "75afedcb-a6c4-4044-acc2-d28829289d0f",
   "metadata": {},
   "outputs": [
    {
     "ename": "ValueError",
     "evalue": "cannot resize an array that references or is referenced\nby another array in this way.\nUse the np.resize function or refcheck=False",
     "output_type": "error",
     "traceback": [
      "\u001b[1;31m---------------------------------------------------------------------------\u001b[0m",
      "\u001b[1;31mValueError\u001b[0m                                Traceback (most recent call last)",
      "Cell \u001b[1;32mIn[46], line 1\u001b[0m\n\u001b[1;32m----> 1\u001b[0m \u001b[43marr6\u001b[49m\u001b[38;5;241;43m.\u001b[39;49m\u001b[43mresize\u001b[49m\u001b[43m(\u001b[49m\u001b[38;5;241;43m7\u001b[39;49m\u001b[43m,\u001b[49m\u001b[38;5;241;43m5\u001b[39;49m\u001b[43m)\u001b[49m\n",
      "\u001b[1;31mValueError\u001b[0m: cannot resize an array that references or is referenced\nby another array in this way.\nUse the np.resize function or refcheck=False"
     ]
    }
   ],
   "source": [
    "arr6.resize(7,5)"
   ]
  },
  {
   "cell_type": "code",
   "execution_count": 48,
   "id": "e3a05ff9-f915-45f7-b2e8-217cd06d7ea8",
   "metadata": {},
   "outputs": [
    {
     "data": {
      "text/plain": [
       "array([[ 1,  2,  3,  4,  5],\n",
       "       [ 6,  7,  8,  9, 10],\n",
       "       [11, 12, 13, 14, 15],\n",
       "       [16, 17, 18, 19, 20],\n",
       "       [21, 22, 23, 24,  1],\n",
       "       [ 2,  3,  4,  5,  6],\n",
       "       [ 7,  8,  9, 10, 11]])"
      ]
     },
     "execution_count": 48,
     "metadata": {},
     "output_type": "execute_result"
    }
   ],
   "source": [
    "np.resize(arr6,(7,5)) #possible"
   ]
  },
  {
   "cell_type": "code",
   "execution_count": 49,
   "id": "1fb62c15-8a51-484f-ba43-0fe4f7fd1174",
   "metadata": {},
   "outputs": [
    {
     "data": {
      "text/plain": [
       "array([[ 1,  2,  3,  4],\n",
       "       [ 5,  6,  7,  8],\n",
       "       [ 9, 10, 11, 12]])"
      ]
     },
     "execution_count": 49,
     "metadata": {},
     "output_type": "execute_result"
    }
   ],
   "source": [
    "np.resize(arr6,(3,4))"
   ]
  },
  {
   "cell_type": "code",
   "execution_count": null,
   "id": "5d69264f-7876-4a7f-abfd-54fa9c233cef",
   "metadata": {},
   "outputs": [],
   "source": []
  }
 ],
 "metadata": {
  "kernelspec": {
   "display_name": "Python 3 (ipykernel)",
   "language": "python",
   "name": "python3"
  },
  "language_info": {
   "codemirror_mode": {
    "name": "ipython",
    "version": 3
   },
   "file_extension": ".py",
   "mimetype": "text/x-python",
   "name": "python",
   "nbconvert_exporter": "python",
   "pygments_lexer": "ipython3",
   "version": "3.12.0"
  }
 },
 "nbformat": 4,
 "nbformat_minor": 5
}
