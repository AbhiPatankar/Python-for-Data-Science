{
 "cells": [
  {
   "cell_type": "code",
   "execution_count": 3,
   "id": "42f48d5b-9d98-4c12-9e54-359a166977f6",
   "metadata": {},
   "outputs": [],
   "source": [
    "import numpy as np\n",
    "import pandas as pd\n",
    "import matplotlib.pyplot as plt\n",
    "import seaborn as sns\n",
    "import scipy as sp\n",
    "from scipy.stats import shapiro, ttest_ind, spearmanr, chi2_contingency, ttest_ind\n",
    "from sklearn.datasets import load_wine, make_classification \n",
    "import warnings\n",
    "warnings.filterwarnings(\"ignore\")\n"
   ]
  },
  {
   "cell_type": "code",
   "execution_count": 11,
   "id": "7aac683e-0161-4161-acf2-f1962261a9b1",
   "metadata": {},
   "outputs": [],
   "source": [
    "wine = load_wine()"
   ]
  },
  {
   "cell_type": "code",
   "execution_count": 12,
   "id": "648d2046-012a-4937-a118-4df68527a70b",
   "metadata": {},
   "outputs": [
    {
     "data": {
      "text/plain": [
       "['DESCR', 'data', 'feature_names', 'frame', 'target', 'target_names']"
      ]
     },
     "execution_count": 12,
     "metadata": {},
     "output_type": "execute_result"
    }
   ],
   "source": [
    "dir(wine)"
   ]
  },
  {
   "cell_type": "code",
   "execution_count": 13,
   "id": "7a448161-f64a-4c2e-8344-6d7b458df70e",
   "metadata": {},
   "outputs": [],
   "source": [
    "wine_df = pd.DataFrame(wine.data, columns=wine.feature_names)\n",
    "wine_df[\"target\"] = wine.target"
   ]
  },
  {
   "cell_type": "code",
   "execution_count": 16,
   "id": "6a8fb1c7-c565-4944-b74e-60f3aba8725e",
   "metadata": {},
   "outputs": [],
   "source": [
    "data, target = make_classification(n_samples=400, n_features=5, n_classes=2)"
   ]
  },
  {
   "cell_type": "code",
   "execution_count": 18,
   "id": "e31850dd-fbfa-47e0-a928-adf35a7dc150",
   "metadata": {},
   "outputs": [],
   "source": [
    "df = pd.DataFrame(data, columns=[f\"feature{i}\" for i in range(1,6)])\n",
    "df[\"target\"]=target"
   ]
  },
  {
   "cell_type": "code",
   "execution_count": 19,
   "id": "5644a059-d5f5-48f8-91f8-e5cf513ff5c9",
   "metadata": {},
   "outputs": [],
   "source": [
    "wine = wine_df.copy()"
   ]
  },
  {
   "cell_type": "code",
   "execution_count": 20,
   "id": "8a3ec0df-4e69-4378-ae28-9454f5ac933c",
   "metadata": {},
   "outputs": [
    {
     "data": {
      "text/html": [
       "<div>\n",
       "<style scoped>\n",
       "    .dataframe tbody tr th:only-of-type {\n",
       "        vertical-align: middle;\n",
       "    }\n",
       "\n",
       "    .dataframe tbody tr th {\n",
       "        vertical-align: top;\n",
       "    }\n",
       "\n",
       "    .dataframe thead th {\n",
       "        text-align: right;\n",
       "    }\n",
       "</style>\n",
       "<table border=\"1\" class=\"dataframe\">\n",
       "  <thead>\n",
       "    <tr style=\"text-align: right;\">\n",
       "      <th></th>\n",
       "      <th>alcohol</th>\n",
       "      <th>malic_acid</th>\n",
       "      <th>ash</th>\n",
       "      <th>alcalinity_of_ash</th>\n",
       "      <th>magnesium</th>\n",
       "      <th>total_phenols</th>\n",
       "      <th>flavanoids</th>\n",
       "      <th>nonflavanoid_phenols</th>\n",
       "      <th>proanthocyanins</th>\n",
       "      <th>color_intensity</th>\n",
       "      <th>hue</th>\n",
       "      <th>od280/od315_of_diluted_wines</th>\n",
       "      <th>proline</th>\n",
       "      <th>target</th>\n",
       "    </tr>\n",
       "  </thead>\n",
       "  <tbody>\n",
       "    <tr>\n",
       "      <th>0</th>\n",
       "      <td>14.23</td>\n",
       "      <td>1.71</td>\n",
       "      <td>2.43</td>\n",
       "      <td>15.6</td>\n",
       "      <td>127.0</td>\n",
       "      <td>2.80</td>\n",
       "      <td>3.06</td>\n",
       "      <td>0.28</td>\n",
       "      <td>2.29</td>\n",
       "      <td>5.64</td>\n",
       "      <td>1.04</td>\n",
       "      <td>3.92</td>\n",
       "      <td>1065.0</td>\n",
       "      <td>0</td>\n",
       "    </tr>\n",
       "    <tr>\n",
       "      <th>1</th>\n",
       "      <td>13.20</td>\n",
       "      <td>1.78</td>\n",
       "      <td>2.14</td>\n",
       "      <td>11.2</td>\n",
       "      <td>100.0</td>\n",
       "      <td>2.65</td>\n",
       "      <td>2.76</td>\n",
       "      <td>0.26</td>\n",
       "      <td>1.28</td>\n",
       "      <td>4.38</td>\n",
       "      <td>1.05</td>\n",
       "      <td>3.40</td>\n",
       "      <td>1050.0</td>\n",
       "      <td>0</td>\n",
       "    </tr>\n",
       "    <tr>\n",
       "      <th>2</th>\n",
       "      <td>13.16</td>\n",
       "      <td>2.36</td>\n",
       "      <td>2.67</td>\n",
       "      <td>18.6</td>\n",
       "      <td>101.0</td>\n",
       "      <td>2.80</td>\n",
       "      <td>3.24</td>\n",
       "      <td>0.30</td>\n",
       "      <td>2.81</td>\n",
       "      <td>5.68</td>\n",
       "      <td>1.03</td>\n",
       "      <td>3.17</td>\n",
       "      <td>1185.0</td>\n",
       "      <td>0</td>\n",
       "    </tr>\n",
       "    <tr>\n",
       "      <th>3</th>\n",
       "      <td>14.37</td>\n",
       "      <td>1.95</td>\n",
       "      <td>2.50</td>\n",
       "      <td>16.8</td>\n",
       "      <td>113.0</td>\n",
       "      <td>3.85</td>\n",
       "      <td>3.49</td>\n",
       "      <td>0.24</td>\n",
       "      <td>2.18</td>\n",
       "      <td>7.80</td>\n",
       "      <td>0.86</td>\n",
       "      <td>3.45</td>\n",
       "      <td>1480.0</td>\n",
       "      <td>0</td>\n",
       "    </tr>\n",
       "    <tr>\n",
       "      <th>4</th>\n",
       "      <td>13.24</td>\n",
       "      <td>2.59</td>\n",
       "      <td>2.87</td>\n",
       "      <td>21.0</td>\n",
       "      <td>118.0</td>\n",
       "      <td>2.80</td>\n",
       "      <td>2.69</td>\n",
       "      <td>0.39</td>\n",
       "      <td>1.82</td>\n",
       "      <td>4.32</td>\n",
       "      <td>1.04</td>\n",
       "      <td>2.93</td>\n",
       "      <td>735.0</td>\n",
       "      <td>0</td>\n",
       "    </tr>\n",
       "  </tbody>\n",
       "</table>\n",
       "</div>"
      ],
      "text/plain": [
       "   alcohol  malic_acid   ash  alcalinity_of_ash  magnesium  total_phenols  \\\n",
       "0    14.23        1.71  2.43               15.6      127.0           2.80   \n",
       "1    13.20        1.78  2.14               11.2      100.0           2.65   \n",
       "2    13.16        2.36  2.67               18.6      101.0           2.80   \n",
       "3    14.37        1.95  2.50               16.8      113.0           3.85   \n",
       "4    13.24        2.59  2.87               21.0      118.0           2.80   \n",
       "\n",
       "   flavanoids  nonflavanoid_phenols  proanthocyanins  color_intensity   hue  \\\n",
       "0        3.06                  0.28             2.29             5.64  1.04   \n",
       "1        2.76                  0.26             1.28             4.38  1.05   \n",
       "2        3.24                  0.30             2.81             5.68  1.03   \n",
       "3        3.49                  0.24             2.18             7.80  0.86   \n",
       "4        2.69                  0.39             1.82             4.32  1.04   \n",
       "\n",
       "   od280/od315_of_diluted_wines  proline  target  \n",
       "0                          3.92   1065.0       0  \n",
       "1                          3.40   1050.0       0  \n",
       "2                          3.17   1185.0       0  \n",
       "3                          3.45   1480.0       0  \n",
       "4                          2.93    735.0       0  "
      ]
     },
     "execution_count": 20,
     "metadata": {},
     "output_type": "execute_result"
    }
   ],
   "source": [
    "wine.head()"
   ]
  },
  {
   "cell_type": "code",
   "execution_count": 21,
   "id": "c7a72c9a-a7b0-4d8e-9e9c-fc91d272c4bc",
   "metadata": {},
   "outputs": [
    {
     "data": {
      "text/html": [
       "<div>\n",
       "<style scoped>\n",
       "    .dataframe tbody tr th:only-of-type {\n",
       "        vertical-align: middle;\n",
       "    }\n",
       "\n",
       "    .dataframe tbody tr th {\n",
       "        vertical-align: top;\n",
       "    }\n",
       "\n",
       "    .dataframe thead th {\n",
       "        text-align: right;\n",
       "    }\n",
       "</style>\n",
       "<table border=\"1\" class=\"dataframe\">\n",
       "  <thead>\n",
       "    <tr style=\"text-align: right;\">\n",
       "      <th></th>\n",
       "      <th>feature1</th>\n",
       "      <th>feature2</th>\n",
       "      <th>feature3</th>\n",
       "      <th>feature4</th>\n",
       "      <th>feature5</th>\n",
       "      <th>target</th>\n",
       "    </tr>\n",
       "  </thead>\n",
       "  <tbody>\n",
       "    <tr>\n",
       "      <th>0</th>\n",
       "      <td>-1.184566</td>\n",
       "      <td>1.186636</td>\n",
       "      <td>-0.135845</td>\n",
       "      <td>-0.542261</td>\n",
       "      <td>0.193281</td>\n",
       "      <td>1</td>\n",
       "    </tr>\n",
       "    <tr>\n",
       "      <th>1</th>\n",
       "      <td>-1.215894</td>\n",
       "      <td>0.867012</td>\n",
       "      <td>0.150804</td>\n",
       "      <td>-0.595574</td>\n",
       "      <td>-0.165921</td>\n",
       "      <td>1</td>\n",
       "    </tr>\n",
       "    <tr>\n",
       "      <th>2</th>\n",
       "      <td>1.247481</td>\n",
       "      <td>0.493984</td>\n",
       "      <td>-1.941873</td>\n",
       "      <td>1.277434</td>\n",
       "      <td>2.396154</td>\n",
       "      <td>0</td>\n",
       "    </tr>\n",
       "    <tr>\n",
       "      <th>3</th>\n",
       "      <td>-0.048910</td>\n",
       "      <td>0.813503</td>\n",
       "      <td>-0.487775</td>\n",
       "      <td>-0.057097</td>\n",
       "      <td>0.617238</td>\n",
       "      <td>1</td>\n",
       "    </tr>\n",
       "    <tr>\n",
       "      <th>4</th>\n",
       "      <td>-0.722946</td>\n",
       "      <td>-1.134144</td>\n",
       "      <td>0.662045</td>\n",
       "      <td>0.093942</td>\n",
       "      <td>-0.838430</td>\n",
       "      <td>0</td>\n",
       "    </tr>\n",
       "  </tbody>\n",
       "</table>\n",
       "</div>"
      ],
      "text/plain": [
       "   feature1  feature2  feature3  feature4  feature5  target\n",
       "0 -1.184566  1.186636 -0.135845 -0.542261  0.193281       1\n",
       "1 -1.215894  0.867012  0.150804 -0.595574 -0.165921       1\n",
       "2  1.247481  0.493984 -1.941873  1.277434  2.396154       0\n",
       "3 -0.048910  0.813503 -0.487775 -0.057097  0.617238       1\n",
       "4 -0.722946 -1.134144  0.662045  0.093942 -0.838430       0"
      ]
     },
     "execution_count": 21,
     "metadata": {},
     "output_type": "execute_result"
    }
   ],
   "source": [
    "df.head()"
   ]
  },
  {
   "cell_type": "code",
   "execution_count": 23,
   "id": "c2119809-e849-4423-86b3-2a2d6e576d73",
   "metadata": {},
   "outputs": [
    {
     "data": {
      "image/png": "[encoded data removed]",
      "text/plain": [
       "<Figure size 640x480 with 1 Axes>"
      ]
     },
     "metadata": {},
     "output_type": "display_data"
    }
   ],
   "source": [
    "plt.title(\"Alochol column Distribution\")\n",
    "sns.histplot(wine[\"alcohol\"], kde=True, alpha=0.7)\n",
    "plt.show()"
   ]
  },
  {
   "cell_type": "code",
   "execution_count": 25,
   "id": "fa62a29e-957e-4798-badc-570c95e75cb3",
   "metadata": {},
   "outputs": [
    {
     "name": "stdout",
     "output_type": "stream",
     "text": [
      "Shapiro statistical value :  0.981804609298706\n",
      "Shapiro p_value 0.020050711929798126\n",
      "Data is not normally distributed (Rejecting H0)\n"
     ]
    }
   ],
   "source": [
    "# H0 -> Data is noramlly distributed\n",
    "#ha -> Data is not notmally distributed\n",
    "\n",
    "#Checking wheather to accept the null hypothesis or reject it.\n",
    "sh_stat, sh_p = shapiro(wine[\"alcohol\"])\n",
    "\n",
    "print(\"Shapiro statistical value : \", sh_stat)\n",
    "print(\"Shapiro p_value\", sh_p)\n",
    "\n",
    "alpha = 0.05\n",
    "if sh_p > alpha:\n",
    "    print(\"Data is normally distributes (Accepting H0)\")\n",
    "else:\n",
    "    print(\"Data is not normally distributed (Rejecting H0)\")"
   ]
  },
  {
   "cell_type": "code",
   "execution_count": 30,
   "id": "f2096068-15aa-4272-afb7-a0f1472d64f2",
   "metadata": {},
   "outputs": [
    {
     "data": {
      "text/plain": [
       "Index(['alcohol', 'malic_acid', 'ash', 'alcalinity_of_ash', 'magnesium',\n",
       "       'total_phenols', 'flavanoids', 'nonflavanoid_phenols',\n",
       "       'proanthocyanins', 'color_intensity', 'hue',\n",
       "       'od280/od315_of_diluted_wines', 'proline', 'target'],\n",
       "      dtype='object')"
      ]
     },
     "execution_count": 30,
     "metadata": {},
     "output_type": "execute_result"
    }
   ],
   "source": [
    "wine.columns"
   ]
  },
  {
   "cell_type": "code",
   "execution_count": 35,
   "id": "ae993614-101a-43f4-a27d-1a9aefa44433",
   "metadata": {},
   "outputs": [
    {
     "data": {
      "image/png": "[encoded data removed]",
      "text/plain": [
       "<Figure size 640x480 with 1 Axes>"
      ]
     },
     "metadata": {},
     "output_type": "display_data"
    }
   ],
   "source": [
    "plt.title(\"Alochol column Distribution\")\n",
    "sns.scatterplot(x=wine[\"total_phenols\"],y=wine[\"malic_acid\"] , alpha=0.7)\n",
    "plt.show()"
   ]
  },
  {
   "cell_type": "code",
   "execution_count": 43,
   "id": "26204ea9-2775-43c3-bc10-e9a44bc07986",
   "metadata": {},
   "outputs": [
    {
     "name": "stdout",
     "output_type": "stream",
     "text": [
      "Spearman statistical value : -0.28022 \n",
      "Spearman p_value  : 0.00015\n",
      "Total_phonol and malic_acid are not independent (Rejecting H0)\n"
     ]
    }
   ],
   "source": [
    "#H0 --> Total_phonol and malic_acid are independent\n",
    "#Ha --> Total_phonol and malic_acid are not independent\n",
    "#Cheacking weather to accept or reject the null hypothesis\n",
    "#spearemenr\n",
    "sp_stat, sp_p = spearmanr(wine[\"total_phenols\"], wine[\"malic_acid\"])\n",
    "\n",
    "print(\"Spearman statistical value : %.5f \" %sp_stat)\n",
    "print(\"Spearman p_value  : %.5f\" %sp_p)\n",
    "\n",
    "alpha = 0.05\n",
    "if sp_p > alpha:\n",
    "    print(\"Total_phonol and malic_acid are independent (Accepting H0)\")\n",
    "else:\n",
    "    print(\"Total_phonol and malic_acid are not independent (Rejecting H0)\")\n"
   ]
  },
  {
   "cell_type": "code",
   "execution_count": null,
   "id": "c8b6af35-1f3b-4a13-916f-598b3aa91449",
   "metadata": {},
   "outputs": [],
   "source": [
    "plt.title(\"Feature column Distribution\")\n",
    "sns.scatterplot(x=df[\"feature\"], kde=True, alpha=0.7)\n",
    "plt.show()"
   ]
  }
 ],
 "metadata": {
  "kernelspec": {
   "display_name": "Python 3 (ipykernel)",
   "language": "python",
   "name": "python3"
  },
  "language_info": {
   "codemirror_mode": {
    "name": "ipython",
    "version": 3
   },
   "file_extension": ".py",
   "mimetype": "text/x-python",
   "name": "python",
   "nbconvert_exporter": "python",
   "pygments_lexer": "ipython3",
   "version": "3.12.0"
  }
 },
 "nbformat": 4,
 "nbformat_minor": 5
}
